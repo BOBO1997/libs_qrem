{
 "cells": [
  {
   "cell_type": "code",
   "execution_count": 1,
   "metadata": {},
   "outputs": [],
   "source": [
    "from time import perf_counter"
   ]
  },
  {
   "cell_type": "code",
   "execution_count": 2,
   "metadata": {},
   "outputs": [],
   "source": [
    "t1 = perf_counter()\n",
    "vec = []\n",
    "for i in range(10000 * 10000):\n",
    "    vec.append(i)\n",
    "t2 = perf_counter()"
   ]
  },
  {
   "cell_type": "code",
   "execution_count": 4,
   "metadata": {},
   "outputs": [
    {
     "name": "stdout",
     "output_type": "stream",
     "text": [
      "Elapsed time: 341.540398162 329.206495163\n",
      "Elapsed time during the whole program in seconds: 12.333902998999974\n"
     ]
    }
   ],
   "source": [
    "print(\"Elapsed time:\", t2, t1)\n",
    "\n",
    "\n",
    "print(\"Elapsed time during the whole program in seconds:\", t2 - t1)\n"
   ]
  },
  {
   "cell_type": "code",
   "execution_count": null,
   "metadata": {},
   "outputs": [],
   "source": []
  }
 ],
 "metadata": {
  "interpreter": {
   "hash": "951ebffaf819f2222c5c497431ce59cfbd01f2cb324140b5ebff0e58c5c7b350"
  },
  "kernelspec": {
   "display_name": "Python 3.9.7 64-bit ('qiskitenv': conda)",
   "language": "python",
   "name": "python3"
  },
  "language_info": {
   "codemirror_mode": {
    "name": "ipython",
    "version": 3
   },
   "file_extension": ".py",
   "mimetype": "text/x-python",
   "name": "python",
   "nbconvert_exporter": "python",
   "pygments_lexer": "ipython3",
   "version": "3.9.7"
  },
  "orig_nbformat": 4
 },
 "nbformat": 4,
 "nbformat_minor": 2
}
