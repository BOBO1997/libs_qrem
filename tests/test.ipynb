{
 "cells": [
  {
   "cell_type": "code",
   "execution_count": 1,
   "metadata": {},
   "outputs": [],
   "source": [
    "# from mitigation import qrem_filter\n",
    "from libs_qrem import QREM_Filter_1, QREM_Filter_2, QREM_Filter_3, QREM_Filter_4\n",
    "from dummy_data import n, cal_matrices, hist\n",
    "from pprint import pprint\n",
    "\n",
    "meas_filter1 = QREM_Filter_1(n, cal_matrices)\n",
    "meas_filter2 = QREM_Filter_2(n, cal_matrices)\n",
    "meas_filter3 = QREM_Filter_3(n, cal_matrices)\n",
    "meas_filter4 = QREM_Filter_4(n, cal_matrices)"
   ]
  },
  {
   "cell_type": "code",
   "execution_count": 2,
   "metadata": {},
   "outputs": [
    {
     "name": "stdout",
     "output_type": "stream",
     "text": [
      "proposed (delta)\n"
     ]
    }
   ],
   "source": [
    "print(\"proposed (delta)\")\n",
    "mitigated_hist1 = meas_filter1.apply(hist)\n",
    "# pprint(mitigated_hist1)"
   ]
  },
  {
   "cell_type": "code",
   "execution_count": 3,
   "metadata": {},
   "outputs": [
    {
     "name": "stdout",
     "output_type": "stream",
     "text": [
      "proposed (slsqp)\n"
     ]
    }
   ],
   "source": [
    "print(\"proposed (slsqp)\")\n",
    "mitigated_hist2 = meas_filter2.apply(hist)\n",
    "# pprint(mitigated_hist2)"
   ]
  },
  {
   "cell_type": "code",
   "execution_count": 4,
   "metadata": {},
   "outputs": [
    {
     "name": "stdout",
     "output_type": "stream",
     "text": [
      "Mooney et al.\n",
      "accumulator is positive, we might even ignoring the necessal positive values.\n"
     ]
    }
   ],
   "source": [
    "print(\"Mooney et al.\")\n",
    "mitigated_hist3 = meas_filter3.apply(hist)\n",
    "# pprint(mitigated_hist2)"
   ]
  },
  {
   "cell_type": "code",
   "execution_count": 5,
   "metadata": {},
   "outputs": [
    {
     "name": "stdout",
     "output_type": "stream",
     "text": [
      "proposed (least norm)\n"
     ]
    }
   ],
   "source": [
    "print(\"proposed (least norm)\")\n",
    "mitigated_hist4 = meas_filter4.apply(hist)\n",
    "# pprint(mitigated_hist2)"
   ]
  }
 ],
 "metadata": {
  "interpreter": {
   "hash": "951ebffaf819f2222c5c497431ce59cfbd01f2cb324140b5ebff0e58c5c7b350"
  },
  "kernelspec": {
   "display_name": "Python 3 (ipykernel)",
   "language": "python",
   "name": "python3"
  },
  "language_info": {
   "codemirror_mode": {
    "name": "ipython",
    "version": 3
   },
   "file_extension": ".py",
   "mimetype": "text/x-python",
   "name": "python",
   "nbconvert_exporter": "python",
   "pygments_lexer": "ipython3",
   "version": "3.9.7"
  }
 },
 "nbformat": 4,
 "nbformat_minor": 2
}
