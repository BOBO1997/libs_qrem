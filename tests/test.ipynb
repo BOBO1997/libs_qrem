{
 "cells": [
  {
   "cell_type": "code",
   "execution_count": 1,
   "metadata": {},
   "outputs": [],
   "source": [
    "# from mitigation import qrem_filter\n",
    "from libs_qrem import QREM_Filter_1, QREM_Filter_2, QREM_Filter_3, QREM_Filter_4\n",
    "from dummy_data import n, cal_matrices, hist\n",
    "from pprint import pprint\n",
    "\n",
    "meas_filter1 = QREM_Filter_1(n, cal_matrices)\n",
    "meas_filter2 = QREM_Filter_2(n, cal_matrices)\n",
    "meas_filter3 = QREM_Filter_3(n, cal_matrices)\n",
    "meas_filter4 = QREM_Filter_4(n, cal_matrices)"
   ]
  },
  {
   "cell_type": "code",
   "execution_count": 2,
   "metadata": {},
   "outputs": [
    {
     "name": "stdout",
     "output_type": "stream",
     "text": [
      "proposed (delta)\n",
      "mitigation finished\n",
      "time of delta is 0.0 msec\n",
      "time of inverse is 1.0 msec\n",
      "time of postprocess is 0.0 msec\n",
      "time of preprocess is 0.0 msec\n",
      "time of sgs_algorithm is 0.0 msec\n",
      "time of total is 1.0 msec\n",
      "\n"
     ]
    }
   ],
   "source": [
    "print(\"proposed (delta)\")\n",
    "mitigated_hist1 = meas_filter1.apply(hist)\n",
    "# pprint(mitigated_hist1)\n",
    "print()\n"
   ]
  },
  {
   "cell_type": "code",
   "execution_count": 3,
   "metadata": {},
   "outputs": [
    {
     "name": "stdout",
     "output_type": "stream",
     "text": [
      "proposed (slsqp)\n",
      "mitigation finished\n",
      "time of inverse is 1.0 msec\n",
      "time of preprocess is 0.0 msec\n",
      "time of sgs_algorithm is 0.049094999998487765 msec\n",
      "time of slsqp is 103.63333099999909 msec\n",
      "time of total is 104.68242599999758 msec\n",
      "\n"
     ]
    }
   ],
   "source": [
    "print(\"proposed (slsqp)\")\n",
    "mitigated_hist2 = meas_filter2.apply(hist)\n",
    "# pprint(mitigated_hist2)\n",
    "print()"
   ]
  },
  {
   "cell_type": "code",
   "execution_count": 4,
   "metadata": {},
   "outputs": [
    {
     "name": "stdout",
     "output_type": "stream",
     "text": [
      "Mooney et al.\n",
      "mitigation finishedaccumulator is positive, we might even ignoring the necessal positive values.\n",
      "\n",
      "time of inverse is 2.0 msec\n",
      "time of postprocess is 0.0 msec\n",
      "time of preprocess is 0.0 msec\n",
      "time of sgs_algorithm is 0.0 msec\n",
      "time of total is 2.0 msec\n",
      "\n"
     ]
    }
   ],
   "source": [
    "print(\"Mooney et al.\")\n",
    "mitigated_hist3 = meas_filter3.apply(hist)\n",
    "# pprint(mitigated_hist2)\n",
    "print()"
   ]
  },
  {
   "cell_type": "code",
   "execution_count": 5,
   "metadata": {},
   "outputs": [
    {
     "name": "stdout",
     "output_type": "stream",
     "text": [
      "proposed (least norm)\n",
      "mitigation finished\n",
      "time of inverse is 1.0 msec\n",
      "time of least_norm is 0.0 msec\n",
      "time of postprocess is 0.0 msec\n",
      "time of preprocess is 0.0 msec\n",
      "time of sgs_algorithm is 0.0 msec\n",
      "time of total is 2.0 msec\n",
      "\n"
     ]
    }
   ],
   "source": [
    "print(\"proposed (least norm)\")\n",
    "mitigated_hist4 = meas_filter4.apply(hist)\n",
    "# pprint(mitigated_hist2)\n",
    "print()"
   ]
  },
  {
   "cell_type": "code",
   "execution_count": null,
   "metadata": {
    "scrolled": true
   },
   "outputs": [],
   "source": [
    "pprint(mitigated_hist1)"
   ]
  },
  {
   "cell_type": "code",
   "execution_count": null,
   "metadata": {
    "scrolled": true
   },
   "outputs": [],
   "source": [
    "pprint(mitigated_hist2)"
   ]
  },
  {
   "cell_type": "code",
   "execution_count": null,
   "metadata": {},
   "outputs": [],
   "source": [
    "pprint(mitigated_hist3)"
   ]
  },
  {
   "cell_type": "code",
   "execution_count": null,
   "metadata": {
    "scrolled": true
   },
   "outputs": [],
   "source": [
    "pprint(mitigated_hist4)"
   ]
  },
  {
   "cell_type": "code",
   "execution_count": 12,
   "metadata": {},
   "outputs": [
    {
     "name": "stdout",
     "output_type": "stream",
     "text": [
      "array(None, dtype=object)\n",
      "array(None, dtype=object)\n",
      "array(None, dtype=object)\n",
      "1.0209342986376897\n",
      "1.0209545231067254\n"
     ]
    }
   ],
   "source": [
    "pprint(meas_filter1.x_s())\n",
    "pprint(meas_filter1.x_hat())\n",
    "pprint(meas_filter1.x_tilde())\n",
    "pprint(meas_filter1.sum_of_x())\n",
    "pprint(meas_filter1.sum_of_x_hat())"
   ]
  },
  {
   "cell_type": "code",
   "execution_count": 11,
   "metadata": {},
   "outputs": [
    {
     "name": "stdout",
     "output_type": "stream",
     "text": [
      "<built-in method x_s of mitigation.QREM_Filter_1 object at 0x7fa9b957ae00>\n"
     ]
    }
   ],
   "source": [
    "pprint(meas_filter1.x_s)"
   ]
  },
  {
   "cell_type": "code",
   "execution_count": null,
   "metadata": {},
   "outputs": [],
   "source": []
  }
 ],
 "metadata": {
  "interpreter": {
   "hash": "951ebffaf819f2222c5c497431ce59cfbd01f2cb324140b5ebff0e58c5c7b350"
  },
  "kernelspec": {
   "display_name": "Python 3 (ipykernel)",
   "language": "python",
   "name": "python3"
  },
  "language_info": {
   "codemirror_mode": {
    "name": "ipython",
    "version": 3
   },
   "file_extension": ".py",
   "mimetype": "text/x-python",
   "name": "python",
   "nbconvert_exporter": "python",
   "pygments_lexer": "ipython3",
   "version": "3.9.7"
  }
 },
 "nbformat": 4,
 "nbformat_minor": 2
}
