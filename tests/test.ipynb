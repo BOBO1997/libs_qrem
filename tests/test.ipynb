{
 "cells": [
  {
   "cell_type": "code",
   "execution_count": 1,
   "metadata": {},
   "outputs": [],
   "source": [
    "from libs_qrem import DeltaFilter, SLSQPFilter, LeastNormFilter, MooneyEtalFilter, NationEtalFilter\n",
    "from dummy_data import n, cal_matrices, hist\n",
    "from pprint import pprint\n",
    "\n",
    "delta_mitigator = DeltaFilter(n, cal_matrices)\n",
    "slsqp_mitigator = SLSQPFilter(n, cal_matrices)\n",
    "lnp_mitigator = LeastNormFilter(n, cal_matrices)\n",
    "mooney_mitigator = MooneyEtalFilter(n, cal_matrices)\n",
    "nation_mitigator = NationEtalFilter(n, cal_matrices)\n"
   ]
  },
  {
   "cell_type": "code",
   "execution_count": 2,
   "metadata": {},
   "outputs": [
    {
     "name": "stdout",
     "output_type": "stream",
     "text": [
      "proposed (delta)\n"
     ]
    }
   ],
   "source": [
    "print(\"proposed (delta)\")\n",
    "delta_hist = delta_mitigator.apply(hist)\n",
    "# pprint(mitigated_hist1)"
   ]
  },
  {
   "cell_type": "code",
   "execution_count": 3,
   "metadata": {},
   "outputs": [
    {
     "name": "stdout",
     "output_type": "stream",
     "text": [
      "proposed (slsqp)\n"
     ]
    },
    {
     "ename": "AttributeError",
     "evalue": "'libs_qrem.SLSQPFilter' object has no attribute '_x_s'",
     "output_type": "error",
     "traceback": [
      "\u001b[0;31m---------------------------------------------------------------------------\u001b[0m",
      "\u001b[0;31mAttributeError\u001b[0m                            Traceback (most recent call last)",
      "\u001b[0;32m/var/folders/vr/d82vcp297v78vk4sb0_nzzdc0000gn/T/ipykernel_38071/3415548185.py\u001b[0m in \u001b[0;36m<module>\u001b[0;34m\u001b[0m\n\u001b[1;32m      1\u001b[0m \u001b[0mprint\u001b[0m\u001b[0;34m(\u001b[0m\u001b[0;34m\"proposed (slsqp)\"\u001b[0m\u001b[0;34m)\u001b[0m\u001b[0;34m\u001b[0m\u001b[0;34m\u001b[0m\u001b[0m\n\u001b[0;32m----> 2\u001b[0;31m \u001b[0mslsqp_hist\u001b[0m \u001b[0;34m=\u001b[0m \u001b[0mslsqp_mitigator\u001b[0m\u001b[0;34m.\u001b[0m\u001b[0mapply\u001b[0m\u001b[0;34m(\u001b[0m\u001b[0mhist\u001b[0m\u001b[0;34m)\u001b[0m\u001b[0;34m\u001b[0m\u001b[0;34m\u001b[0m\u001b[0m\n\u001b[0m\u001b[1;32m      3\u001b[0m \u001b[0;31m# pprint(mitigated_hist2)\u001b[0m\u001b[0;34m\u001b[0m\u001b[0;34m\u001b[0m\u001b[0m\n",
      "\u001b[0;32mlibs_qrem/slsqp_filter.pyx\u001b[0m in \u001b[0;36mlibs_qrem.SLSQPFilter.apply\u001b[0;34m()\u001b[0m\n",
      "\u001b[0;31mAttributeError\u001b[0m: 'libs_qrem.SLSQPFilter' object has no attribute '_x_s'"
     ]
    }
   ],
   "source": [
    "print(\"proposed (slsqp)\")\n",
    "slsqp_hist = slsqp_mitigator.apply(hist)\n",
    "# pprint(mitigated_hist2)"
   ]
  },
  {
   "cell_type": "code",
   "execution_count": 4,
   "metadata": {},
   "outputs": [
    {
     "name": "stdout",
     "output_type": "stream",
     "text": [
      "proposed (least norm)\n"
     ]
    }
   ],
   "source": [
    "print(\"proposed (least norm)\")\n",
    "lnp_hist = lnp_mitigator.apply(hist)\n",
    "# pprint(mitigated_hist2)\n"
   ]
  },
  {
   "cell_type": "code",
   "execution_count": 5,
   "metadata": {},
   "outputs": [
    {
     "name": "stdout",
     "output_type": "stream",
     "text": [
      "Mooney et al.\n"
     ]
    }
   ],
   "source": [
    "print(\"Mooney et al.\")\n",
    "mooney_hist = mooney_mitigator.apply(hist)\n",
    "# pprint(mitigated_hist2)"
   ]
  },
  {
   "cell_type": "code",
   "execution_count": null,
   "metadata": {},
   "outputs": [],
   "source": [
    "print(\"Nation et al.\")\n",
    "nation_hist = nation_mitigator.apply(hist)\n",
    "# pprint(mitigated_hist2)"
   ]
  },
  {
   "cell_type": "code",
   "execution_count": null,
   "metadata": {},
   "outputs": [],
   "source": []
  }
 ],
 "metadata": {
  "interpreter": {
   "hash": "951ebffaf819f2222c5c497431ce59cfbd01f2cb324140b5ebff0e58c5c7b350"
  },
  "kernelspec": {
   "display_name": "Python 3 (ipykernel)",
   "language": "python",
   "name": "python3"
  },
  "language_info": {
   "codemirror_mode": {
    "name": "ipython",
    "version": 3
   },
   "file_extension": ".py",
   "mimetype": "text/x-python",
   "name": "python",
   "nbconvert_exporter": "python",
   "pygments_lexer": "ipython3",
   "version": "3.9.7"
  }
 },
 "nbformat": 4,
 "nbformat_minor": 2
}
