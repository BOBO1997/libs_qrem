{
 "cells": [
  {
   "cell_type": "code",
   "execution_count": 1,
   "metadata": {},
   "outputs": [
    {
     "ename": "ImportError",
     "evalue": "cannot import name 'DeltaFilter' from 'libs_qrem' (/Users/yangbo/opt/anaconda3/envs/qiskitenv/lib/python3.9/site-packages/libs_qrem.cpython-39-darwin.so)",
     "output_type": "error",
     "traceback": [
      "\u001b[0;31m---------------------------------------------------------------------------\u001b[0m",
      "\u001b[0;31mImportError\u001b[0m                               Traceback (most recent call last)",
      "\u001b[0;32m/var/folders/vr/d82vcp297v78vk4sb0_nzzdc0000gn/T/ipykernel_26551/2373619509.py\u001b[0m in \u001b[0;36m<module>\u001b[0;34m\u001b[0m\n\u001b[0;32m----> 1\u001b[0;31m \u001b[0;32mfrom\u001b[0m \u001b[0mlibs_qrem\u001b[0m \u001b[0;32mimport\u001b[0m \u001b[0mDeltaFilter\u001b[0m\u001b[0;34m,\u001b[0m \u001b[0mSLSQPFilter\u001b[0m\u001b[0;34m,\u001b[0m \u001b[0mLeastNormFilter\u001b[0m\u001b[0;34m,\u001b[0m \u001b[0mMooneyEtalFilter\u001b[0m\u001b[0;34m,\u001b[0m \u001b[0mNationEtalFilter\u001b[0m\u001b[0;34m\u001b[0m\u001b[0;34m\u001b[0m\u001b[0m\n\u001b[0m\u001b[1;32m      2\u001b[0m \u001b[0;32mfrom\u001b[0m \u001b[0mdummy_data\u001b[0m \u001b[0;32mimport\u001b[0m \u001b[0mn\u001b[0m\u001b[0;34m,\u001b[0m \u001b[0mcal_matrices\u001b[0m\u001b[0;34m,\u001b[0m \u001b[0mhist\u001b[0m\u001b[0;34m\u001b[0m\u001b[0;34m\u001b[0m\u001b[0m\n\u001b[1;32m      3\u001b[0m \u001b[0;32mfrom\u001b[0m \u001b[0mpprint\u001b[0m \u001b[0;32mimport\u001b[0m \u001b[0mpprint\u001b[0m\u001b[0;34m\u001b[0m\u001b[0;34m\u001b[0m\u001b[0m\n\u001b[1;32m      4\u001b[0m \u001b[0;34m\u001b[0m\u001b[0m\n\u001b[1;32m      5\u001b[0m \u001b[0mdelta_mitigator\u001b[0m \u001b[0;34m=\u001b[0m \u001b[0mDeltaFilter\u001b[0m\u001b[0;34m(\u001b[0m\u001b[0mn\u001b[0m\u001b[0;34m,\u001b[0m \u001b[0mcal_matrices\u001b[0m\u001b[0;34m)\u001b[0m\u001b[0;34m\u001b[0m\u001b[0;34m\u001b[0m\u001b[0m\n",
      "\u001b[0;31mImportError\u001b[0m: cannot import name 'DeltaFilter' from 'libs_qrem' (/Users/yangbo/opt/anaconda3/envs/qiskitenv/lib/python3.9/site-packages/libs_qrem.cpython-39-darwin.so)"
     ]
    }
   ],
   "source": [
    "from libs_qrem import DeltaFilter, SLSQPFilter, LeastNormFilter, MooneyEtalFilter, NationEtalFilter\n",
    "from dummy_data import n, cal_matrices, hist\n",
    "from pprint import pprint\n",
    "\n",
    "delta_mitigator = DeltaFilter(n, cal_matrices)\n",
    "slsqp_mitigator = SLSQPFilter(n, cal_matrices)\n",
    "lnp_mitigator = LeastNormFilter(n, cal_matrices)\n",
    "mooney_mitigator = MooneyEtalFilter(n, cal_matrices)\n",
    "nation_mitigator = NationEtalFilter(n, cal_matrices)\n"
   ]
  },
  {
   "cell_type": "code",
   "execution_count": null,
   "metadata": {},
   "outputs": [],
   "source": []
  },
  {
   "cell_type": "code",
   "execution_count": 2,
   "metadata": {},
   "outputs": [
    {
     "name": "stdout",
     "output_type": "stream",
     "text": [
      "proposed (delta)\n"
     ]
    }
   ],
   "source": [
    "print(\"proposed (delta)\")\n",
    "mitigated_hist1 = meas_filter1.apply(hist)\n",
    "# pprint(mitigated_hist1)"
   ]
  },
  {
   "cell_type": "code",
   "execution_count": 3,
   "metadata": {},
   "outputs": [
    {
     "name": "stdout",
     "output_type": "stream",
     "text": [
      "proposed (slsqp)\n"
     ]
    }
   ],
   "source": [
    "print(\"proposed (slsqp)\")\n",
    "mitigated_hist2 = meas_filter2.apply(hist)\n",
    "# pprint(mitigated_hist2)"
   ]
  },
  {
   "cell_type": "code",
   "execution_count": 4,
   "metadata": {},
   "outputs": [
    {
     "name": "stdout",
     "output_type": "stream",
     "text": [
      "Mooney et al.\n",
      "accumulator is positive, we might even ignoring the necessal positive values.\n"
     ]
    }
   ],
   "source": [
    "print(\"Mooney et al.\")\n",
    "mitigated_hist3 = meas_filter3.apply(hist)\n",
    "# pprint(mitigated_hist2)"
   ]
  },
  {
   "cell_type": "code",
   "execution_count": 5,
   "metadata": {},
   "outputs": [
    {
     "name": "stdout",
     "output_type": "stream",
     "text": [
      "proposed (least norm)\n"
     ]
    }
   ],
   "source": [
    "print(\"proposed (least norm)\")\n",
    "mitigated_hist4 = meas_filter4.apply(hist)\n",
    "# pprint(mitigated_hist2)"
   ]
  }
 ],
 "metadata": {
  "interpreter": {
   "hash": "951ebffaf819f2222c5c497431ce59cfbd01f2cb324140b5ebff0e58c5c7b350"
  },
  "kernelspec": {
   "display_name": "Python 3 (ipykernel)",
   "language": "python",
   "name": "python3"
  },
  "language_info": {
   "codemirror_mode": {
    "name": "ipython",
    "version": 3
   },
   "file_extension": ".py",
   "mimetype": "text/x-python",
   "name": "python",
   "nbconvert_exporter": "python",
   "pygments_lexer": "ipython3",
   "version": "3.9.7"
  }
 },
 "nbformat": 4,
 "nbformat_minor": 2
}
