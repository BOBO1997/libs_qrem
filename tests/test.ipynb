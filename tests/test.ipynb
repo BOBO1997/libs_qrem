{
 "cells": [
  {
   "cell_type": "code",
   "execution_count": 1,
   "metadata": {},
   "outputs": [],
   "source": [
    "# from mitigation import qrem_filter\n",
    "from mitigation import QREM_Filter_1, QREM_Filter_2\n",
    "from dummy_data import n, cal_matrices, hist\n",
    "from pprint import pprint\n",
    "\n",
    "meas_filter1 = QREM_Filter_1(n, cal_matrices)\n",
    "meas_filter2 = QREM_Filter_2(n, cal_matrices)\n"
   ]
  },
  {
   "cell_type": "code",
   "execution_count": 2,
   "metadata": {},
   "outputs": [
    {
     "name": "stdout",
     "output_type": "stream",
     "text": [
      "s_lm0\n",
      "mitigation finished\n",
      "time of delta is 0.0 msec\n",
      "time of inverse is 1.0 msec\n",
      "time of postprocess is 0.0 msec\n",
      "time of preprocess is 0.0 msec\n",
      "time of sgs_algorithm is 0.0 msec\n",
      "time of total is 1.0 msec\n",
      "slsqp\n",
      "mitigation finished\n",
      "time of inverse is 1.0 msec\n",
      "time of preprocess is 0.0 msec\n",
      "time of sgs_algorithm is 0.04024000000208616 msec\n",
      "time of slsqp is 93.67944099998567 msec\n"
     ]
    }
   ],
   "source": [
    "print(\"s_lm0\")\n",
    "mitigated_hist1 = meas_filter1.apply(hist)\n",
    "# pprint(mitigated_hist1)\n",
    "\n",
    "\n",
    "print(\"slsqp\")\n",
    "mitigated_hist2 = meas_filter2.apply(hist)\n",
    "# pprint(mitigated_hist2)"
   ]
  },
  {
   "cell_type": "code",
   "execution_count": null,
   "metadata": {},
   "outputs": [],
   "source": [
    "from qiskit.visualization import plot_histogram"
   ]
  }
 ],
 "metadata": {
  "interpreter": {
   "hash": "951ebffaf819f2222c5c497431ce59cfbd01f2cb324140b5ebff0e58c5c7b350"
  },
  "kernelspec": {
   "display_name": "Python 3.9.7 64-bit ('qiskitenv': conda)",
   "language": "python",
   "name": "python3"
  },
  "language_info": {
   "codemirror_mode": {
    "name": "ipython",
    "version": 3
   },
   "file_extension": ".py",
   "mimetype": "text/x-python",
   "name": "python",
   "nbconvert_exporter": "python",
   "pygments_lexer": "ipython3",
   "version": "3.9.7"
  },
  "orig_nbformat": 4
 },
 "nbformat": 4,
 "nbformat_minor": 2
}
