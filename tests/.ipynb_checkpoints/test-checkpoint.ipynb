{
 "cells": [
  {
   "cell_type": "code",
   "execution_count": 1,
   "metadata": {},
   "outputs": [],
   "source": [
    "# from mitigation import qrem_filter\n",
    "from mitigation import QREM_Filter_1, QREM_Filter_2, QREM_Filter_3, QREM_Filter_4\n",
    "from dummy_data import n, cal_matrices, hist\n",
    "from pprint import pprint\n",
    "\n",
    "meas_filter1 = QREM_Filter_1(n, cal_matrices)\n",
    "meas_filter2 = QREM_Filter_2(n, cal_matrices)\n",
    "meas_filter3 = QREM_Filter_3(n, cal_matrices)\n",
    "meas_filter4 = QREM_Filter_4(n, cal_matrices)"
   ]
  },
  {
   "cell_type": "code",
   "execution_count": 2,
   "metadata": {},
   "outputs": [
    {
     "name": "stdout",
     "output_type": "stream",
     "text": [
      "proposed (delta)\n",
      "mitigation finished\n",
      "time of delta is 0.0 msec\n",
      "time of inverse is 1.0 msec\n",
      "time of postprocess is 0.0 msec\n",
      "time of preprocess is 0.0 msec\n",
      "time of sgs_algorithm is 0.0 msec\n",
      "time of total is 2.0 msec\n",
      "\n"
     ]
    }
   ],
   "source": [
    "print(\"proposed (delta)\")\n",
    "mitigated_hist1 = meas_filter1.apply(hist)\n",
    "# pprint(mitigated_hist1)\n",
    "print()\n"
   ]
  },
  {
   "cell_type": "code",
   "execution_count": 3,
   "metadata": {},
   "outputs": [
    {
     "name": "stdout",
     "output_type": "stream",
     "text": [
      "NOTE: Enter 'c' at the ipdb>  prompt to continue execution.\n",
      "> \u001b[0;32m<string>\u001b[0m(2)\u001b[0;36m<module>\u001b[0;34m()\u001b[0m\n",
      "\n",
      "ipdb> n\n",
      "proposed (slsqp)\n",
      "> \u001b[0;32m<string>\u001b[0m(3)\u001b[0;36m<module>\u001b[0;34m()\u001b[0m\n",
      "\n",
      "ipdb> s\n",
      "--Call--\n",
      "> \u001b[0;32m/Users/yangbo/opt/anaconda3/envs/qiskitenv/lib/python3.9/site-packages/scipy/optimize/_minimize.py\u001b[0m(45)\u001b[0;36mminimize\u001b[0;34m()\u001b[0m\n",
      "\u001b[0;32m     43 \u001b[0;31m\u001b[0mMINIMIZE_SCALAR_METHODS\u001b[0m \u001b[0;34m=\u001b[0m \u001b[0;34m[\u001b[0m\u001b[0;34m'brent'\u001b[0m\u001b[0;34m,\u001b[0m \u001b[0;34m'bounded'\u001b[0m\u001b[0;34m,\u001b[0m \u001b[0;34m'golden'\u001b[0m\u001b[0;34m]\u001b[0m\u001b[0;34m\u001b[0m\u001b[0;34m\u001b[0m\u001b[0m\n",
      "\u001b[0m\u001b[0;32m     44 \u001b[0;31m\u001b[0;34m\u001b[0m\u001b[0m\n",
      "\u001b[0m\u001b[0;32m---> 45 \u001b[0;31mdef minimize(fun, x0, args=(), method=None, jac=None, hess=None,\n",
      "\u001b[0m\u001b[0;32m     46 \u001b[0;31m             \u001b[0mhessp\u001b[0m\u001b[0;34m=\u001b[0m\u001b[0;32mNone\u001b[0m\u001b[0;34m,\u001b[0m \u001b[0mbounds\u001b[0m\u001b[0;34m=\u001b[0m\u001b[0;32mNone\u001b[0m\u001b[0;34m,\u001b[0m \u001b[0mconstraints\u001b[0m\u001b[0;34m=\u001b[0m\u001b[0;34m(\u001b[0m\u001b[0;34m)\u001b[0m\u001b[0;34m,\u001b[0m \u001b[0mtol\u001b[0m\u001b[0;34m=\u001b[0m\u001b[0;32mNone\u001b[0m\u001b[0;34m,\u001b[0m\u001b[0;34m\u001b[0m\u001b[0;34m\u001b[0m\u001b[0m\n",
      "\u001b[0m\u001b[0;32m     47 \u001b[0;31m             callback=None, options=None):\n",
      "\u001b[0m\n",
      "ipdb> r\n",
      "--Return--\n",
      "     fun: 1.3...09411985e-01])\n",
      "> \u001b[0;32m/Users/yangbo/opt/anaconda3/envs/qiskitenv/lib/python3.9/site-packages/scipy/optimize/_minimize.py\u001b[0m(631)\u001b[0;36mminimize\u001b[0;34m()\u001b[0m\n",
      "\u001b[0;32m    629 \u001b[0;31m        \u001b[0;32mreturn\u001b[0m \u001b[0m_minimize_cobyla\u001b[0m\u001b[0;34m(\u001b[0m\u001b[0mfun\u001b[0m\u001b[0;34m,\u001b[0m \u001b[0mx0\u001b[0m\u001b[0;34m,\u001b[0m \u001b[0margs\u001b[0m\u001b[0;34m,\u001b[0m \u001b[0mconstraints\u001b[0m\u001b[0;34m,\u001b[0m \u001b[0;34m**\u001b[0m\u001b[0moptions\u001b[0m\u001b[0;34m)\u001b[0m\u001b[0;34m\u001b[0m\u001b[0;34m\u001b[0m\u001b[0m\n",
      "\u001b[0m\u001b[0;32m    630 \u001b[0;31m    \u001b[0;32melif\u001b[0m \u001b[0mmeth\u001b[0m \u001b[0;34m==\u001b[0m \u001b[0;34m'slsqp'\u001b[0m\u001b[0;34m:\u001b[0m\u001b[0;34m\u001b[0m\u001b[0;34m\u001b[0m\u001b[0m\n",
      "\u001b[0m\u001b[0;32m--> 631 \u001b[0;31m        return _minimize_slsqp(fun, x0, args, jac, bounds,\n",
      "\u001b[0m\u001b[0;32m    632 \u001b[0;31m                               constraints, callback=callback, **options)\n",
      "\u001b[0m\u001b[0;32m    633 \u001b[0;31m    \u001b[0;32melif\u001b[0m \u001b[0mmeth\u001b[0m \u001b[0;34m==\u001b[0m \u001b[0;34m'trust-constr'\u001b[0m\u001b[0;34m:\u001b[0m\u001b[0;34m\u001b[0m\u001b[0;34m\u001b[0m\u001b[0m\n",
      "\u001b[0m\n",
      "ipdb> r\n",
      "TypeError: Cannot convert numpy.ndarray to mitigation.VectorDouble\n",
      "> \u001b[0;32m<string>\u001b[0m(3)\u001b[0;36m<module>\u001b[0;34m()\u001b[0m\n",
      "\n",
      "ipdb> q\n"
     ]
    }
   ],
   "source": [
    "%%debug\n",
    "print(\"proposed (slsqp)\")\n",
    "mitigated_hist2 = meas_filter2.apply(hist)\n",
    "# pprint(mitigated_hist2)\n",
    "print()"
   ]
  },
  {
   "cell_type": "code",
   "execution_count": null,
   "metadata": {},
   "outputs": [],
   "source": [
    "print(\"Mooney et al.\")\n",
    "mitigated_hist3 = meas_filter3.apply(hist)\n",
    "# pprint(mitigated_hist2)\n",
    "print()"
   ]
  },
  {
   "cell_type": "code",
   "execution_count": null,
   "metadata": {},
   "outputs": [],
   "source": [
    "print(\"proposed (least norm)\")\n",
    "mitigated_hist4 = meas_filter4.apply(hist)\n",
    "# pprint(mitigated_hist2)\n",
    "print()"
   ]
  },
  {
   "cell_type": "code",
   "execution_count": 3,
   "metadata": {},
   "outputs": [],
   "source": [
    "from qiskit.visualization import plot_histogram"
   ]
  },
  {
   "cell_type": "code",
   "execution_count": 4,
   "metadata": {},
   "outputs": [],
   "source": [
    "# plot_histogram([hist, mitigated_hist1, mitigated_hist2])"
   ]
  },
  {
   "cell_type": "code",
   "execution_count": 5,
   "metadata": {},
   "outputs": [],
   "source": [
    "# plot_histogram([mitigated_hist1, mitigated_hist2])"
   ]
  },
  {
   "cell_type": "code",
   "execution_count": null,
   "metadata": {},
   "outputs": [],
   "source": []
  }
 ],
 "metadata": {
  "interpreter": {
   "hash": "951ebffaf819f2222c5c497431ce59cfbd01f2cb324140b5ebff0e58c5c7b350"
  },
  "kernelspec": {
   "display_name": "Python 3 (ipykernel)",
   "language": "python",
   "name": "python3"
  },
  "language_info": {
   "codemirror_mode": {
    "name": "ipython",
    "version": 3
   },
   "file_extension": ".py",
   "mimetype": "text/x-python",
   "name": "python",
   "nbconvert_exporter": "python",
   "pygments_lexer": "ipython3",
   "version": "3.9.7"
  }
 },
 "nbformat": 4,
 "nbformat_minor": 2
}
